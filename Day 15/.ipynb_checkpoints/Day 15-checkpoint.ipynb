{
 "cells": [
  {
   "cell_type": "code",
   "execution_count": 1,
   "id": "a9bd0704-8df2-442e-9cf6-dc7443233350",
   "metadata": {},
   "outputs": [],
   "source": [
    "import pandas as pd\n",
    "import sqlite3 "
   ]
  },
  {
   "cell_type": "code",
   "execution_count": 2,
   "id": "0a246b39-cf5f-4c8d-81e5-acaebf2d49f4",
   "metadata": {},
   "outputs": [
    {
     "name": "stderr",
     "output_type": "stream",
     "text": [
      "  % Total    % Received % Xferd  Average Speed   Time    Time     Time  Current\n",
      "                                 Dload  Upload   Total   Spent    Left  Speed\n",
      "\n",
      "  0     0    0     0    0     0      0      0 --:--:-- --:--:-- --:--:--     0\n",
      "  0     0    0     0    0     0      0      0 --:--:-- --:--:-- --:--:--     0\n",
      "  0     0    0     0    0     0      0      0 --:--:--  0:00:01 --:--:--     0\n",
      "100 26858    0 26858    0     0  11528      0 --:--:--  0:00:02 --:--:-- 11536\n",
      "100   99k    0   99k    0     0  35616      0 --:--:--  0:00:02 --:--:-- 35648\n",
      "  % Total    % Received % Xferd  Average Speed   Time    Time     Time  Current\n",
      "                                 Dload  Upload   Total   Spent    Left  Speed\n",
      "\n",
      "  0     0    0     0    0     0      0      0 --:--:-- --:--:-- --:--:--     0\n",
      "  0     0    0     0    0     0      0      0 --:--:--  0:00:01 --:--:--     0\n",
      "  0     0    0     0    0     0      0      0 --:--:--  0:00:02 --:--:--     0\n",
      "100   127    0   127    0     0     41      0 --:--:--  0:00:03 --:--:--    41\n",
      "100 10801    0 10801    0     0   3381      0 --:--:--  0:00:03 --:--:--  3383\n",
      "100 50045    0 50045    0     0  11460      0 --:--:--  0:00:04 --:--:-- 11465\n",
      "100 73800    0 73800    0     0  14170      0 --:--:--  0:00:05 --:--:-- 17882\n",
      "100 79442    0 79442    0     0  14390      0 --:--:--  0:00:05 --:--:-- 22926\n",
      "  % Total    % Received % Xferd  Average Speed   Time    Time     Time  Current\n",
      "                                 Dload  Upload   Total   Spent    Left  Speed\n",
      "\n",
      "  0     0    0     0    0     0      0      0 --:--:-- --:--:-- --:--:--     0\n",
      "  0     0    0     0    0     0      0      0 --:--:--  0:00:01 --:--:--     0\n",
      "100 15689    0 15689    0     0   9966      0 --:--:--  0:00:01 --:--:--  9980\n",
      "100  431k    0  431k    0     0   169k      0 --:--:--  0:00:02 --:--:--  169k\n",
      "100 2642k    0 2642k    0     0   749k      0 --:--:--  0:00:03 --:--:--  749k\n",
      "100 3007k    0 3007k    0     0   811k      0 --:--:--  0:00:03 --:--:--  812k\n"
     ]
    }
   ],
   "source": [
    "##CREATED MY 3 DATASETS AND GENERATED THEIR CSV FILES, GOT THESE LINKS FROM MOCKAROO \n",
    "! curl \"https://api.mockaroo.com/api/62be7000?count=1000&key=d458dec0\" > \"customers.csv\"\n",
    "! curl \"https://api.mockaroo.com/api/ad55cfc0?count=1000&key=d458dec0\" > \"orders.csv\"\n",
    "! curl \"https://api.mockaroo.com/api/492b5160?count=1000&key=d458dec0\" > \"products.csv\""
   ]
  },
  {
   "cell_type": "code",
   "execution_count": 3,
   "id": "a406d696-bfba-470c-a6ea-6b3db649b8d8",
   "metadata": {},
   "outputs": [],
   "source": [
    "##SETTING UP ALL THE DATAFRAMES\n",
    "customers = pd.read_csv('customers.csv')\n",
    "orders = pd.read_csv('orders.csv')\n",
    "products = pd.read_csv('products.csv')"
   ]
  },
  {
   "cell_type": "code",
   "execution_count": 7,
   "id": "13c0fb05-948b-4e89-8f26-daed36c14853",
   "metadata": {},
   "outputs": [
    {
     "data": {
      "text/plain": [
       "1000"
      ]
     },
     "execution_count": 7,
     "metadata": {},
     "output_type": "execute_result"
    }
   ],
   "source": [
    "##CREATE A SQLITE DATABASE AND STORE THEE TABLES FROM MOCKAROO\n",
    "db_name = \"ecommerce.db\"\n",
    "conn = sqlite3.connect(db_name)\n",
    "\n",
    "customers.to_sql(\"customers\" , conn , index=False , if_exists=\"replace\")\n",
    "orders.to_sql(\"orders\" , conn , index=False , if_exists=\"replace\")\n",
    "products.to_sql(\"products\" , conn , index=False , if_exists=\"replace\")"
   ]
  },
  {
   "cell_type": "code",
   "execution_count": 8,
   "id": "b75fa190-0175-428b-a3e6-37156d9d1624",
   "metadata": {},
   "outputs": [
    {
     "data": {
      "text/html": [
       "<div>\n",
       "<style scoped>\n",
       "    .dataframe tbody tr th:only-of-type {\n",
       "        vertical-align: middle;\n",
       "    }\n",
       "\n",
       "    .dataframe tbody tr th {\n",
       "        vertical-align: top;\n",
       "    }\n",
       "\n",
       "    .dataframe thead th {\n",
       "        text-align: right;\n",
       "    }\n",
       "</style>\n",
       "<table border=\"1\" class=\"dataframe\">\n",
       "  <thead>\n",
       "    <tr style=\"text-align: right;\">\n",
       "      <th></th>\n",
       "      <th>customer_id</th>\n",
       "      <th>first_name</th>\n",
       "      <th>last_name</th>\n",
       "      <th>email</th>\n",
       "      <th>phone_number</th>\n",
       "      <th>address</th>\n",
       "      <th>city</th>\n",
       "      <th>country</th>\n",
       "      <th>postal_code</th>\n",
       "      <th>membership_level</th>\n",
       "    </tr>\n",
       "  </thead>\n",
       "  <tbody>\n",
       "    <tr>\n",
       "      <th>0</th>\n",
       "      <td>1</td>\n",
       "      <td>Fredric</td>\n",
       "      <td>Gomes</td>\n",
       "      <td>fgomes0@cnn.com</td>\n",
       "      <td>979-565-1343</td>\n",
       "      <td>06 Blackbird Terrace</td>\n",
       "      <td>Gambalidio</td>\n",
       "      <td>Philippines</td>\n",
       "      <td>4025</td>\n",
       "      <td>Gold</td>\n",
       "    </tr>\n",
       "    <tr>\n",
       "      <th>1</th>\n",
       "      <td>2</td>\n",
       "      <td>Veda</td>\n",
       "      <td>Chappelow</td>\n",
       "      <td>vchappelow1@360.cn</td>\n",
       "      <td>341-941-6532</td>\n",
       "      <td>53143 Petterle Junction</td>\n",
       "      <td>Cimuncang</td>\n",
       "      <td>Indonesia</td>\n",
       "      <td>None</td>\n",
       "      <td>Platinum</td>\n",
       "    </tr>\n",
       "    <tr>\n",
       "      <th>2</th>\n",
       "      <td>3</td>\n",
       "      <td>Corrie</td>\n",
       "      <td>Oyley</td>\n",
       "      <td>coyley2@sphinn.com</td>\n",
       "      <td>431-878-0886</td>\n",
       "      <td>26 Stone Corner Place</td>\n",
       "      <td>Lelydorp</td>\n",
       "      <td>Suriname</td>\n",
       "      <td>None</td>\n",
       "      <td>Silver</td>\n",
       "    </tr>\n",
       "    <tr>\n",
       "      <th>3</th>\n",
       "      <td>4</td>\n",
       "      <td>Lizabeth</td>\n",
       "      <td>Spritt</td>\n",
       "      <td>lspritt3@squidoo.com</td>\n",
       "      <td>424-713-7647</td>\n",
       "      <td>98255 Nevada Point</td>\n",
       "      <td>Briey</td>\n",
       "      <td>France</td>\n",
       "      <td>54154 CEDEX</td>\n",
       "      <td>Gold</td>\n",
       "    </tr>\n",
       "    <tr>\n",
       "      <th>4</th>\n",
       "      <td>5</td>\n",
       "      <td>Cassey</td>\n",
       "      <td>Simpole</td>\n",
       "      <td>csimpole4@sun.com</td>\n",
       "      <td>222-550-6723</td>\n",
       "      <td>26334 Commercial Center</td>\n",
       "      <td>San Isidro</td>\n",
       "      <td>Mexico</td>\n",
       "      <td>64103</td>\n",
       "      <td>Silver</td>\n",
       "    </tr>\n",
       "  </tbody>\n",
       "</table>\n",
       "</div>"
      ],
      "text/plain": [
       "   customer_id first_name  last_name                 email  phone_number  \\\n",
       "0            1    Fredric      Gomes       fgomes0@cnn.com  979-565-1343   \n",
       "1            2       Veda  Chappelow    vchappelow1@360.cn  341-941-6532   \n",
       "2            3     Corrie      Oyley    coyley2@sphinn.com  431-878-0886   \n",
       "3            4   Lizabeth     Spritt  lspritt3@squidoo.com  424-713-7647   \n",
       "4            5     Cassey    Simpole     csimpole4@sun.com  222-550-6723   \n",
       "\n",
       "                   address        city      country  postal_code  \\\n",
       "0     06 Blackbird Terrace  Gambalidio  Philippines         4025   \n",
       "1  53143 Petterle Junction   Cimuncang    Indonesia         None   \n",
       "2    26 Stone Corner Place    Lelydorp     Suriname         None   \n",
       "3       98255 Nevada Point       Briey       France  54154 CEDEX   \n",
       "4  26334 Commercial Center  San Isidro       Mexico        64103   \n",
       "\n",
       "  membership_level  \n",
       "0             Gold  \n",
       "1         Platinum  \n",
       "2           Silver  \n",
       "3             Gold  \n",
       "4           Silver  "
      ]
     },
     "execution_count": 8,
     "metadata": {},
     "output_type": "execute_result"
    }
   ],
   "source": [
    "##TESING THE CONNECTION\n",
    "pd.read_sql(\"SELECT * FROM customers LIMIT 5;\",conn)"
   ]
  },
  {
   "cell_type": "code",
   "execution_count": null,
   "id": "8a8ac8b0-58c1-485e-8728-c29cddc59e89",
   "metadata": {},
   "outputs": [],
   "source": []
  }
 ],
 "metadata": {
  "kernelspec": {
   "display_name": "Python 3 (ipykernel)",
   "language": "python",
   "name": "python3"
  },
  "language_info": {
   "codemirror_mode": {
    "name": "ipython",
    "version": 3
   },
   "file_extension": ".py",
   "mimetype": "text/x-python",
   "name": "python",
   "nbconvert_exporter": "python",
   "pygments_lexer": "ipython3",
   "version": "3.13.3"
  }
 },
 "nbformat": 4,
 "nbformat_minor": 5
}
